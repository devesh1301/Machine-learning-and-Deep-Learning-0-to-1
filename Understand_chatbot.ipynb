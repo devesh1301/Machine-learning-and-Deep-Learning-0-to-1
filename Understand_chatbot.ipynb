{
 "cells": [
  {
   "cell_type": "code",
   "execution_count": 13,
   "metadata": {
    "collapsed": true
   },
   "outputs": [],
   "source": [
    "from chatterbot.adapters.input import InputAdapter\n",
    "from chatterbot.conversation import Statement\n",
    "from chatterbot.utils.read_input import input_function\n",
    "from nltk.tokenize import word_tokenize\n",
    "from nltk.corpus import stopwords\n",
    "from nltk import Text,pos_tag\n",
    "\n",
    "class TerminalAdapter(InputAdapter):\n",
    "    \"\"\"\n",
    "    A simple adapter that allows ChatterBot to\n",
    "    communicate through the terminal.\n",
    "    \"\"\"\n",
    "    def meaning_analysis(self,sentence_analysis):\n",
    "        tokens = word_tokenize(sentence_analysis)\n",
    "        text = Text(tokens)\n",
    "        tags = pos_tag(text)\n",
    "        print (tags)\n",
    "        nouns = \"NN NNP PRP NNS\".split()\n",
    "        verbs = \"VB VBD VBP VBG\".split()\n",
    "        if len(tags)==1:\n",
    "            tag_len=len(tags)+1\n",
    "        else:\n",
    "            tag_len=len(tags)\n",
    "        for i in range(tag_len -1):\n",
    "            if tags[i][1] in verbs and (tags[i+1][1] in nouns or tags[i+2][1] in nouns or tags[i+3][1] in nouns or tags[i+4][1] in nouns):\n",
    "                #print(\"yoo1\")\n",
    "                final_str=\"decision\"\n",
    "                break\n",
    "            else:\n",
    "                final_str=\"question asked\"\n",
    "        return final_str;  \n",
    "    \n",
    "    def process_input(self,take_question):\n",
    "        \"\"\"\n",
    "        Read the user's input from the terminal.\n",
    "        \"\"\"\n",
    "         \n",
    "        file = open(\"D:/bots/flask/testfile.txt\", \"r\") \n",
    "        readf=file.read()\n",
    "        if readf=='':\n",
    "            user_input = \"jhjjkjkk\"#write some sentence from database whose answer is please ask me something\n",
    "            \n",
    "        else:\n",
    "            temp_var= readf\n",
    "            stop_words = set(stopwords.words('english'))\n",
    "            stop_words.remove('what','i')\n",
    "            print(stop_words)\n",
    "            word_tokens = word_tokenize(temp_var)\n",
    "            filtered_sentence=\"\"\n",
    "            for w in word_tokens:\n",
    "                if w not in stop_words:\n",
    "                    filtered_sentence=filtered_sentence+\" \"+w\n",
    "            sentence_classification=self.meaning_analysis(filtered_sentence)\n",
    "            #print(\"yoo3\",sentence_classification)\n",
    "            if sentence_classification==\"decision\":\n",
    "                print ('This is operation')\n",
    "                user_input=\"bbnbn\"#write some sentence from database saying this is operation\n",
    "            else:\n",
    "                print('This is question')\n",
    "                user_input=filtered_sentence\n",
    "            print(\"user input is\",user_input)\n",
    "            return Statement(user_input)\n"
   ]
  },
  {
   "cell_type": "code",
   "execution_count": 11,
   "metadata": {
    "collapsed": false
   },
   "outputs": [
    {
     "name": "stdout",
     "output_type": "stream",
     "text": [
      "[('i', 'NN'), ('want', 'VBP'), ('eat', 'NN'), ('pizza', 'NN')]\n",
      "question\n",
      "its a decision\n"
     ]
    }
   ],
   "source": [
    "from nltk import word_tokenize,Text,pos_tag\n",
    "sentence = \"i want eat pizza\"\n",
    "tokens = word_tokenize(sentence)\n",
    "text = Text(tokens)\n",
    "tags = pos_tag(text)\n",
    "#tags[3]\n",
    "print (tags)\n",
    "nouns = \"NN NNP PRP NNS\".split()\n",
    "verbs = \"VB VBD VBP VBG\".split()\n",
    "for i in range(len(tags)):\n",
    "            if tags[i][1] in verbs:\n",
    "                if i+1<len(tags) and (tags[i+1][1] in nouns or tags[i+2][1] in nouns or tags[i+3][1] in nouns or tags[i+4][1] in nouns):\n",
    "                    print(\"its a decision\")\n",
    "                else:\n",
    "                    print(\"unknown decision\")\n",
    "                break;\n",
    "            else:\n",
    "                print(\"question\")"
   ]
  },
  {
   "cell_type": "code",
   "execution_count": 14,
   "metadata": {
    "collapsed": false
   },
   "outputs": [
    {
     "data": {
      "text/plain": [
       "'operation'"
      ]
     },
     "execution_count": 14,
     "metadata": {},
     "output_type": "execute_result"
    }
   ],
   "source": [
    "str=\"operation:i want eat pizza\"\n",
    "a=str.split(':')\n",
    "a[0]"
   ]
  },
  {
   "cell_type": "code",
   "execution_count": 18,
   "metadata": {
    "collapsed": false
   },
   "outputs": [
    {
     "data": {
      "text/plain": [
       "False"
      ]
     },
     "execution_count": 18,
     "metadata": {},
     "output_type": "execute_result"
    }
   ],
   "source": [
    "res=\"ayush\"\n",
    "hasattr(res,'text')"
   ]
  }
 ],
 "metadata": {
  "kernelspec": {
   "display_name": "Python 3",
   "language": "python",
   "name": "python3"
  },
  "language_info": {
   "codemirror_mode": {
    "name": "ipython",
    "version": 3
   },
   "file_extension": ".py",
   "mimetype": "text/x-python",
   "name": "python",
   "nbconvert_exporter": "python",
   "pygments_lexer": "ipython3",
   "version": "3.5.2"
  }
 },
 "nbformat": 4,
 "nbformat_minor": 2
}
