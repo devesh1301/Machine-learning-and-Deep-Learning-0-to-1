{
 "cells": [
  {
   "cell_type": "raw",
   "metadata": {},
   "source": [
    "Word Embedings:Word Embeddings are the texts converted into numbers and there may be different numerical representations of the same text. "
   ]
  },
  {
   "cell_type": "raw",
   "metadata": {},
   "source": [
    "The different types of word embeddings can be broadly classified into two categories-\n",
    "\n",
    "Frequency based Embedding\n",
    "Prediction based Embedding"
   ]
  },
  {
   "cell_type": "code",
   "execution_count": 1,
   "metadata": {},
   "outputs": [
    {
     "data": {
      "text/plain": [
       "['also', 'boy', 'he', 'is', 'lazy', 'neeraj', 'person', 'she']"
      ]
     },
     "execution_count": 1,
     "metadata": {},
     "output_type": "execute_result"
    }
   ],
   "source": [
    "#COUNT VECTOR:\n",
    "#example text for model training\n",
    "simple_train=['He is a lazy boy. She is also lazy.','Neeraj is a lazy person']\n",
    "from sklearn.feature_extraction.text import CountVectorizer\n",
    "vect =CountVectorizer()\n",
    "vect.fit(simple_train)\n",
    "vect.get_feature_names()"
   ]
  },
  {
   "cell_type": "code",
   "execution_count": 2,
   "metadata": {},
   "outputs": [
    {
     "data": {
      "text/plain": [
       "array([[1, 1, 1, 2, 2, 0, 0, 1],\n",
       "       [0, 0, 0, 1, 1, 1, 1, 0]], dtype=int64)"
      ]
     },
     "execution_count": 2,
     "metadata": {},
     "output_type": "execute_result"
    }
   ],
   "source": [
    "simple_train_dtm=vect.transform(simple_train)\n",
    "simple_train_dtm\n",
    "simple_train_dtm.toarray()"
   ]
  },
  {
   "cell_type": "code",
   "execution_count": 3,
   "metadata": {},
   "outputs": [
    {
     "data": {
      "text/html": [
       "<div>\n",
       "<style scoped>\n",
       "    .dataframe tbody tr th:only-of-type {\n",
       "        vertical-align: middle;\n",
       "    }\n",
       "\n",
       "    .dataframe tbody tr th {\n",
       "        vertical-align: top;\n",
       "    }\n",
       "\n",
       "    .dataframe thead th {\n",
       "        text-align: right;\n",
       "    }\n",
       "</style>\n",
       "<table border=\"1\" class=\"dataframe\">\n",
       "  <thead>\n",
       "    <tr style=\"text-align: right;\">\n",
       "      <th></th>\n",
       "      <th>also</th>\n",
       "      <th>boy</th>\n",
       "      <th>he</th>\n",
       "      <th>is</th>\n",
       "      <th>lazy</th>\n",
       "      <th>neeraj</th>\n",
       "      <th>person</th>\n",
       "      <th>she</th>\n",
       "    </tr>\n",
       "  </thead>\n",
       "  <tbody>\n",
       "    <tr>\n",
       "      <th>0</th>\n",
       "      <td>1</td>\n",
       "      <td>1</td>\n",
       "      <td>1</td>\n",
       "      <td>2</td>\n",
       "      <td>2</td>\n",
       "      <td>0</td>\n",
       "      <td>0</td>\n",
       "      <td>1</td>\n",
       "    </tr>\n",
       "    <tr>\n",
       "      <th>1</th>\n",
       "      <td>0</td>\n",
       "      <td>0</td>\n",
       "      <td>0</td>\n",
       "      <td>1</td>\n",
       "      <td>1</td>\n",
       "      <td>1</td>\n",
       "      <td>1</td>\n",
       "      <td>0</td>\n",
       "    </tr>\n",
       "  </tbody>\n",
       "</table>\n",
       "</div>"
      ],
      "text/plain": [
       "   also  boy  he  is  lazy  neeraj  person  she\n",
       "0     1    1   1   2     2       0       0    1\n",
       "1     0    0   0   1     1       1       1    0"
      ]
     },
     "execution_count": 3,
     "metadata": {},
     "output_type": "execute_result"
    }
   ],
   "source": [
    "import pandas as pd\n",
    "pd.DataFrame(simple_train_dtm.toarray(),columns=vect.get_feature_names())"
   ]
  },
  {
   "cell_type": "markdown",
   "metadata": {},
   "source": [
    "# COUNT VECTORIZER with a fixed context window"
   ]
  },
  {
   "cell_type": "raw",
   "metadata": {},
   "source": [
    "The big idea – Similar words tend to occur together and will have similar context for example – Apple is a fruit. Mango is a fruit."
   ]
  },
  {
   "cell_type": "raw",
   "metadata": {},
   "source": [
    "Co-occurrence – For a given corpus, the co-occurrence of a pair of words say w1 and w2 is the number of times they have appeared together in a Context Window."
   ]
  },
  {
   "cell_type": "code",
   "execution_count": 2,
   "metadata": {},
   "outputs": [],
   "source": [
    "Corpus = \"He is not lazy. He is intelligent. He is smart.\"\n",
    "#plot cooccurence matrix for it"
   ]
  },
  {
   "cell_type": "code",
   "execution_count": 4,
   "metadata": {},
   "outputs": [
    {
     "name": "stdout",
     "output_type": "stream",
     "text": [
      "Counter({('He', 'is', 'intelligent', '.', 'He'): 1, ('not', 'lazy', '.', 'He', 'is'): 1, ('is', 'intelligent', '.', 'He', 'is'): 1, ('.', 'He', 'is', 'smart', '.'): 1, ('is', 'not', 'lazy', '.', 'He'): 1, ('He', 'is', 'not', 'lazy', '.'): 1, ('intelligent', '.', 'He', 'is', 'smart'): 1, ('lazy', '.', 'He', 'is', 'intelligent'): 1, ('.', 'He', 'is', 'intelligent', '.'): 1})\n"
     ]
    }
   ],
   "source": [
    "import nltk\n",
    "from nltk import word_tokenize\n",
    "from nltk.util import ngrams\n",
    "from collections import Counter\n",
    "\n",
    "text = \"I need to write a program in NLTK that breaks a corpus (a large collection of txt files) into unigrams, bigrams, trigrams, fourgrams and fivegrams.I need to write a program in NLTK that breaks a corpus\"\n",
    "token = nltk.word_tokenize(Corpus)\n",
    "bigrams = ngrams(token,2)\n",
    "trigrams = ngrams(token,3)\n",
    "fourgrams = ngrams(token,4)\n",
    "fivegrams = ngrams(token,5)\n",
    "\n",
    "print (Counter(fivegrams))"
   ]
  }
 ],
 "metadata": {
  "kernelspec": {
   "display_name": "Python 3",
   "language": "python",
   "name": "python3"
  },
  "language_info": {
   "codemirror_mode": {
    "name": "ipython",
    "version": 3
   },
   "file_extension": ".py",
   "mimetype": "text/x-python",
   "name": "python",
   "nbconvert_exporter": "python",
   "pygments_lexer": "ipython3",
   "version": "3.5.4"
  }
 },
 "nbformat": 4,
 "nbformat_minor": 2
}
